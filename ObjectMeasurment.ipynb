{
  "nbformat": 4,
  "nbformat_minor": 0,
  "metadata": {
    "colab": {
      "provenance": [],
      "include_colab_link": true
    },
    "kernelspec": {
      "name": "python3",
      "display_name": "Python 3"
    },
    "language_info": {
      "name": "python"
    }
  },
  "cells": [
    {
      "cell_type": "markdown",
      "metadata": {
        "id": "view-in-github",
        "colab_type": "text"
      },
      "source": [
        "<a href=\"https://colab.research.google.com/github/DorZarka/CV_Final_Project/blob/master/ObjectMeasurment.ipynb\" target=\"_parent\"><img src=\"https://colab.research.google.com/assets/colab-badge.svg\" alt=\"Open In Colab\"/></a>"
      ]
    },
    {
      "cell_type": "code",
      "execution_count": 1,
      "metadata": {
        "id": "2nTz1fYYTe_y"
      },
      "outputs": [],
      "source": [
        "import cv2 as cv\n",
        "import numpy as np\n",
        "import tensorflow as tf\n",
        "import matplotlib.pyplot as plt\n",
        "import math"
      ]
    },
    {
      "cell_type": "code",
      "source": [
        "global thresh_val\n",
        "global thao\n",
        "global initialized\n",
        "global pixel_cm_ratio\n",
        "pixel_cm_ratio = 1\n",
        "initialized = False\n",
        "thao_val = 20\n",
        "thresh_val = 80"
      ],
      "metadata": {
        "id": "sfqaTJSnwbHP"
      },
      "execution_count": 2,
      "outputs": []
    },
    {
      "cell_type": "code",
      "source": [
        "def distance(p1, p2):\n",
        "    return math.sqrt((p1[0]-p2[0])**2 + (p1[1]-p2[1])**2)"
      ],
      "metadata": {
        "id": "iIdgFJ-PkgON"
      },
      "execution_count": 3,
      "outputs": []
    },
    {
      "cell_type": "code",
      "source": [],
      "metadata": {
        "id": "2H21NcIJ2N_S"
      },
      "execution_count": null,
      "outputs": []
    },
    {
      "cell_type": "code",
      "source": [],
      "metadata": {
        "id": "basAjy172QlI"
      },
      "execution_count": null,
      "outputs": []
    },
    {
      "cell_type": "code",
      "source": [],
      "metadata": {
        "id": "Jzy3hu2L2Sdh"
      },
      "execution_count": null,
      "outputs": []
    },
    {
      "cell_type": "code",
      "source": [],
      "metadata": {
        "id": "Q_Ze-yeR2VSq"
      },
      "execution_count": null,
      "outputs": []
    },
    {
      "cell_type": "code",
      "source": [
        "# if __name__ == '__main__':\n",
        "#     # set window name\n",
        "#     windows_name = \"Object-measurement\"\n",
        "#     cv.namedWindow(windows_name)\n",
        "\n",
        "#     cap = cv.VideoCapture(0)\n",
        "#     if not cap.isOpened():\n",
        "#         print(\"Camera detection failed\")\n",
        "#     else:\n",
        "#         while True:\n",
        "#             # read configuration\n",
        "#             ret, frame = cap.read()\n",
        "\n",
        "#             # find contours\n",
        "#             gray_frame = cv.cvtColor(frame, cv.COLOR_BGR2GRAY)\n",
        "#             smoothed = cv.GaussianBlur(gray_frame, (13, 13), 0)\n",
        "#             ret, thresh = cv.threshold(smoothed, thresh_val, 255, 0)\n",
        "#             edged = cv.Canny(thresh, thao_val, thao_val*3)\n",
        "#             contours, hierarchy = cv.findContours(edged, cv.RETR_EXTERNAL, cv.CHAIN_APPROX_SIMPLE)\n",
        "\n",
        "#             # get & draw approximated contours\n",
        "#             for cnt in contours:\n",
        "#                 epsilon = 0.005 * cv.arcLength(cnt, True)\n",
        "#                 approx = cv.approxPolyDP(cnt, epsilon, True)\n",
        "#                 # cv.drawContours(frame, [approx], 0, (0, 255, 0), 3)\n",
        "\n",
        "#             # get & draw rotated contours\n",
        "#                 rect = cv.minAreaRect(approx)\n",
        "#                 box = cv.boxPoints(rect)\n",
        "#                 box = np.intp(box)\n",
        "#                 # cv.drawContours(frame, [box], 0, (0, 0, 255), 2)\n",
        "\n",
        "#             # calculate size in pixels\n",
        "#                 width_tmp = int(distance(box[0], box[1]))\n",
        "#                 height_tmp = int(distance(box[0], box[3]))\n",
        "#                 width = max(width_tmp, height_tmp)*pixel_cm_ratio\n",
        "#                 height = min(width_tmp, height_tmp)*pixel_cm_ratio\n",
        "\n",
        "#             # get bounding box\n",
        "#                 x, y, w, h = cv.boundingRect(cnt)\n",
        "\n",
        "#             # put text (write the object size)\n",
        "#                 font = cv.FONT_HERSHEY_SIMPLEX\n",
        "#                 org = (x, y + h + 20)\n",
        "#                 fontScale = 0.5\n",
        "#                 color = (255, 0, 0)\n",
        "#                 thickness = 1\n",
        "#                 frame = cv.putText(frame, \"width: {} | height: {}\".format(round(width, 3), round(height, 3)), org, font,\n",
        "#                                    fontScale, color, thickness, cv.LINE_AA)\n",
        "\n",
        "#             # draw bounding box\n",
        "#                 cv.rectangle(frame, (x, y), (x + w, y + h), (255, 0, 0), 2)\n",
        "\n",
        "#             # note to initialize real object size (with credit card)\n",
        "#             if not initialized:\n",
        "#                 font_init = cv.FONT_HERSHEY_SIMPLEX\n",
        "#                 org_init = (30, 30)\n",
        "#                 fontScale_init = 0.5\n",
        "#                 color_init = (0, 0, 255)\n",
        "#                 thickness_init = 1\n",
        "#                 cv.putText(frame, \"place a standard credit card\",\n",
        "#                            org_init, font_init, fontScale_init, color_init, thickness_init, cv.LINE_AA)\n",
        "\n",
        "#             # show the result\n",
        "#             cv.imshow(windows_name, frame)\n",
        "\n",
        "#             # get input from user\n",
        "#             key = cv.waitKey(1)\n",
        "#             if key == ord('q'):  # exit program (by pressing q on keyboard)\n",
        "#                 break\n",
        "#             if key == ord('t'):  # reset global threshold (incase object wasn't detected)\n",
        "#                 cv.createTrackbar(\"threshold\", \"Object-measurement\", thresh_val, 255, thresh_callback)\n",
        "#             if key == ord('c'):  # reset global threshold (incase object wasn't detected)\n",
        "#                 cv.createTrackbar(\"Canny Thao\", \"Object-measurement\", thao_val, 200, canny_callback)\n",
        "#             if key == ord('i'):  # initialize pixel to cm ratio\n",
        "#                 if len(contours) != 0:\n",
        "#                     credit_w_h_ratio = width / height if height else 1\n",
        "#                     if abs(credit_w_h_ratio - 1.585) < 0.1 and len(contours) != 0:\n",
        "#                         pixel_cm_ratio = 8.56 / width\n",
        "#                         set_pixel_cm_ratio(pixel_cm_ratio)\n",
        "#                         init()\n",
        "#             if key == ord('r'):\n",
        "#                 init(False)\n",
        "#                 set_pixel_cm_ratio(1)\n",
        "\n",
        "#     cap.release()\n",
        "#     cv.destroyAllWindows()"
      ],
      "metadata": {
        "id": "RXA2BXwdkhy-"
      },
      "execution_count": 4,
      "outputs": []
    }
  ]
}