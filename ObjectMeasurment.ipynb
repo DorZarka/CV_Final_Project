{
  "nbformat": 4,
  "nbformat_minor": 0,
  "metadata": {
    "colab": {
      "provenance": [],
      "include_colab_link": true
    },
    "kernelspec": {
      "name": "python3",
      "display_name": "Python 3"
    },
    "language_info": {
      "name": "python"
    }
  },
  "cells": [
    {
      "cell_type": "markdown",
      "metadata": {
        "id": "view-in-github",
        "colab_type": "text"
      },
      "source": [
        "<a href=\"https://colab.research.google.com/github/DorZarka/CV_Final_Project/blob/master/ObjectMeasurment.ipynb\" target=\"_parent\"><img src=\"https://colab.research.google.com/assets/colab-badge.svg\" alt=\"Open In Colab\"/></a>"
      ]
    },
    {
      "cell_type": "code",
      "execution_count": null,
      "metadata": {
        "id": "2nTz1fYYTe_y"
      },
      "outputs": [],
      "source": [
        "import cv2 as cv\n",
        "import numpy as np\n",
        "import tensorflow as tf\n",
        "import matplotlib.pyplot as plt\n",
        "import math"
      ]
    },
    {
      "cell_type": "code",
      "source": [
        "def distance(p1, p2):\n",
        "    return math.sqrt((p1[0]-p2[0])**2 + (p1[1]-p2[1])**2)"
      ],
      "metadata": {
        "id": "iIdgFJ-PkgON"
      },
      "execution_count": null,
      "outputs": []
    },
    {
      "cell_type": "code",
      "source": [
        "if __name__ == '__main__':\n",
        "    cap = cv.VideoCapture(0)\n",
        "    if not cap.isOpened():\n",
        "        print(\"Camera detection failed\")\n",
        "    else:\n",
        "        while True:\n",
        "            # read configuration\n",
        "            ret, frame = cap.read()\n",
        "\n",
        "            # find contours\n",
        "            gray_frame = cv.cvtColor(frame, cv.COLOR_BGR2GRAY)\n",
        "            smoothed = cv.GaussianBlur(gray_frame, (13, 13), 0)\n",
        "            ret, thresh = cv.threshold(smoothed, 80, 255, 0)\n",
        "            edged = cv.Canny(thresh, 20, 60)\n",
        "            contours, hierarchy = cv.findContours(edged, cv.RETR_TREE, cv.CHAIN_APPROX_SIMPLE)\n",
        "\n",
        "            # draw approximated contours\n",
        "            for cnt in contours:\n",
        "                epsilon = 0.005 * cv.arcLength(cnt, True)\n",
        "                approx = cv.approxPolyDP(cnt, epsilon, True)\n",
        "                # cv.drawContours(frame, [approx], 0, (0, 255, 0), 3)\n",
        "\n",
        "            # draw rotated contours\n",
        "                rect = cv.minAreaRect(approx)\n",
        "                box = cv.boxPoints(rect)\n",
        "                box = np.intp(box)\n",
        "                # cv.drawContours(frame, [box], 0, (0, 0, 255), 2)\n",
        "\n",
        "            # calculate size\n",
        "                width = int(distance(box[0], box[1]))\n",
        "                height = int(distance(box[0], box[3]))\n",
        "\n",
        "            # get bounding box\n",
        "                x, y, w, h = cv.boundingRect(cnt)\n",
        "\n",
        "            # put text (write the object size)\n",
        "                font = cv.FONT_HERSHEY_SIMPLEX\n",
        "                org = (x, y + h + 20)\n",
        "                fontScale = 0.5\n",
        "                color = (255, 0, 0)\n",
        "                thickness = 1\n",
        "                frame = cv.putText(frame, \"width: {} | height: {}\".format(width, height), org, font,\n",
        "                                   fontScale, color, thickness, cv.LINE_AA)\n",
        "\n",
        "            # draw bounding box\n",
        "                cv.rectangle(frame, (x, y), (x + w, y + h), (255, 0, 0), 2)\n",
        "\n",
        "            # show the result\n",
        "            cv.imshow('frame', frame)\n",
        "\n",
        "            # exit program (by pressing q on keyboard)\n",
        "            if cv.waitKey(1) == ord('q'):\n",
        "                break\n",
        "\n",
        "\n",
        "    cap.release()\n",
        "    cv.destroyAllWindows()"
      ],
      "metadata": {
        "colab": {
          "base_uri": "https://localhost:8080/"
        },
        "id": "RXA2BXwdkhy-",
        "outputId": "23a66968-894d-45f7-c413-7bb93a843a68"
      },
      "execution_count": null,
      "outputs": [
        {
          "output_type": "stream",
          "name": "stdout",
          "text": [
            "Camera detection failed\n"
          ]
        }
      ]
    }
  ]
}